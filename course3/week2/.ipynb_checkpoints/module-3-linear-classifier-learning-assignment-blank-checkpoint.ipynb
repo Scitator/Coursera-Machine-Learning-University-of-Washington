{
 "cells": [
  {
   "cell_type": "markdown",
   "metadata": {},
   "source": [
    "# Implementing logistic regression from scratch\n",
    "\n",
    "The goal of this notebook is to implement your own logistic regression classifier. You will:\n",
    "\n",
    " * Extract features from Amazon product reviews.\n",
    " * Convert an SFrame into a NumPy array.\n",
    " * Implement the link function for logistic regression.\n",
    " * Write a function to compute the derivative of the log likelihood function with respect to a single coefficient.\n",
    " * Implement gradient ascent.\n",
    " * Given a set of coefficients, predict sentiments.\n",
    " * Compute classification accuracy for the logistic regression model.\n",
    " \n",
    "Let's get started!\n",
    "    \n",
    "## Fire up GraphLab Create\n",
    "\n",
    "Make sure you have the latest version of GraphLab Create. Upgrade by\n",
    "```\n",
    "   pip install graphlab-create --upgrade\n",
    "```\n",
    "See [this page](https://dato.com/download/) for detailed instructions on upgrading."
   ]
  },
  {
   "cell_type": "code",
   "execution_count": 1,
   "metadata": {
    "collapsed": true
   },
   "outputs": [],
   "source": [
    "import sys\n",
    "sys.path.append('/home/scitator/.conda/envs/dato-env/lib/python2.7/site-packages/')"
   ]
  },
  {
   "cell_type": "code",
   "execution_count": 2,
   "metadata": {
    "collapsed": false
   },
   "outputs": [],
   "source": [
    "import graphlab"
   ]
  },
  {
   "cell_type": "markdown",
   "metadata": {},
   "source": [
    "## Load review dataset"
   ]
  },
  {
   "cell_type": "markdown",
   "metadata": {},
   "source": [
    "For this assignment, we will use a subset of the Amazon product review dataset. The subset was chosen to contain similar numbers of positive and negative reviews, as the original dataset consisted primarily of positive reviews."
   ]
  },
  {
   "cell_type": "code",
   "execution_count": 3,
   "metadata": {
    "collapsed": false
   },
   "outputs": [
    {
     "name": "stderr",
     "output_type": "stream",
     "text": [
      "[INFO] GraphLab Create v1.8.3 started. Logging: /tmp/graphlab_server_1457931629.log\n"
     ]
    }
   ],
   "source": [
    "products = graphlab.SFrame('amazon_baby_subset.gl/')"
   ]
  },
  {
   "cell_type": "markdown",
   "metadata": {},
   "source": [
    "One column of this dataset is 'sentiment', corresponding to the class label with +1 indicating a review with positive sentiment and -1 indicating one with negative sentiment."
   ]
  },
  {
   "cell_type": "code",
   "execution_count": 4,
   "metadata": {
    "collapsed": false
   },
   "outputs": [
    {
     "data": {
      "text/plain": [
       "dtype: int\n",
       "Rows: 53072\n",
       "[1, 1, 1, 1, 1, 1, 1, 1, 1, 1, 1, 1, 1, 1, 1, 1, 1, 1, 1, 1, 1, 1, 1, 1, 1, 1, 1, 1, 1, 1, 1, 1, 1, 1, 1, 1, 1, 1, 1, 1, 1, 1, 1, 1, 1, 1, 1, 1, 1, 1, 1, 1, 1, 1, 1, 1, 1, 1, 1, 1, 1, 1, 1, 1, 1, 1, 1, 1, 1, 1, 1, 1, 1, 1, 1, 1, 1, 1, 1, 1, 1, 1, 1, 1, 1, 1, 1, 1, 1, 1, 1, 1, 1, 1, 1, 1, 1, 1, 1, 1, ... ]"
      ]
     },
     "execution_count": 4,
     "metadata": {},
     "output_type": "execute_result"
    }
   ],
   "source": [
    "products['sentiment']"
   ]
  },
  {
   "cell_type": "markdown",
   "metadata": {},
   "source": [
    "Let us quickly explore more of this dataset.  The 'name' column indicates the name of the product.  Here we list the first 10 products in the dataset.  We then count the number of positive and negative reviews."
   ]
  },
  {
   "cell_type": "code",
   "execution_count": 5,
   "metadata": {
    "collapsed": false
   },
   "outputs": [
    {
     "data": {
      "text/plain": [
       "dtype: str\n",
       "Rows: 10\n",
       "[\"Stop Pacifier Sucking without tears with Thumbuddy To Love's Binky Fairy Puppet and Adorable Book\", \"Nature's Lullabies Second Year Sticker Calendar\", \"Nature's Lullabies Second Year Sticker Calendar\", 'Lamaze Peekaboo, I Love You', \"SoftPlay Peek-A-Boo Where's Elmo A Children's Book\", 'Our Baby Girl Memory Book', 'Hunnt&reg; Falling Flowers and Birds Kids Nursery Home Decor Vinyl Mural Art Wall Paper Stickers', 'Blessed By Pope Benedict XVI Divine Mercy Full Color Medal', 'Cloth Diaper Pins Stainless Steel Traditional Safety Pin (Black)', 'Cloth Diaper Pins Stainless Steel Traditional Safety Pin (Black)']"
      ]
     },
     "execution_count": 5,
     "metadata": {},
     "output_type": "execute_result"
    }
   ],
   "source": [
    "products.head(10)['name']"
   ]
  },
  {
   "cell_type": "code",
   "execution_count": 6,
   "metadata": {
    "collapsed": false
   },
   "outputs": [
    {
     "name": "stdout",
     "output_type": "stream",
     "text": [
      "# of positive reviews = 26579\n",
      "# of negative reviews = 26493\n"
     ]
    }
   ],
   "source": [
    "print '# of positive reviews =', len(products[products['sentiment']==1])\n",
    "print '# of negative reviews =', len(products[products['sentiment']==-1])"
   ]
  },
  {
   "cell_type": "markdown",
   "metadata": {},
   "source": [
    "**Note:** For this assignment, we eliminated class imbalance by choosing \n",
    "a subset of the data with a similar number of positive and negative reviews. \n",
    "\n",
    "## Apply text cleaning on the review data\n",
    "\n",
    "In this section, we will perform some simple feature cleaning using **SFrames**. The last assignment used all words in building bag-of-words features, but here we limit ourselves to 193 words (for simplicity). We compiled a list of 193 most frequent words into a JSON file. \n",
    "\n",
    "Now, we will load these words from this JSON file:"
   ]
  },
  {
   "cell_type": "code",
   "execution_count": 7,
   "metadata": {
    "collapsed": false
   },
   "outputs": [],
   "source": [
    "import json\n",
    "with open('important_words.json', 'r') as f: # Reads the list of most frequent words\n",
    "    important_words = json.load(f)\n",
    "important_words = [str(s) for s in important_words]"
   ]
  },
  {
   "cell_type": "code",
   "execution_count": 8,
   "metadata": {
    "collapsed": false
   },
   "outputs": [
    {
     "name": "stdout",
     "output_type": "stream",
     "text": [
      "['baby', 'one', 'great', 'love', 'use', 'would', 'like', 'easy', 'little', 'seat', 'old', 'well', 'get', 'also', 'really', 'son', 'time', 'bought', 'product', 'good', 'daughter', 'much', 'loves', 'stroller', 'put', 'months', 'car', 'still', 'back', 'used', 'recommend', 'first', 'even', 'perfect', 'nice', 'bag', 'two', 'using', 'got', 'fit', 'around', 'diaper', 'enough', 'month', 'price', 'go', 'could', 'soft', 'since', 'buy', 'room', 'works', 'made', 'child', 'keep', 'size', 'small', 'need', 'year', 'big', 'make', 'take', 'easily', 'think', 'crib', 'clean', 'way', 'quality', 'thing', 'better', 'without', 'set', 'new', 'every', 'cute', 'best', 'bottles', 'work', 'purchased', 'right', 'lot', 'side', 'happy', 'comfortable', 'toy', 'able', 'kids', 'bit', 'night', 'long', 'fits', 'see', 'us', 'another', 'play', 'day', 'money', 'monitor', 'tried', 'thought', 'never', 'item', 'hard', 'plastic', 'however', 'disappointed', 'reviews', 'something', 'going', 'pump', 'bottle', 'cup', 'waste', 'return', 'amazon', 'different', 'top', 'want', 'problem', 'know', 'water', 'try', 'received', 'sure', 'times', 'chair', 'find', 'hold', 'gate', 'open', 'bottom', 'away', 'actually', 'cheap', 'worked', 'getting', 'ordered', 'came', 'milk', 'bad', 'part', 'worth', 'found', 'cover', 'many', 'design', 'looking', 'weeks', 'say', 'wanted', 'look', 'place', 'purchase', 'looks', 'second', 'piece', 'box', 'pretty', 'trying', 'difficult', 'together', 'though', 'give', 'started', 'anything', 'last', 'company', 'come', 'returned', 'maybe', 'took', 'broke', 'makes', 'stay', 'instead', 'idea', 'head', 'said', 'less', 'went', 'working', 'high', 'unit', 'seems', 'picture', 'completely', 'wish', 'buying', 'babies', 'won', 'tub', 'almost', 'either']\n"
     ]
    }
   ],
   "source": [
    "print important_words"
   ]
  },
  {
   "cell_type": "markdown",
   "metadata": {},
   "source": [
    "Now, we will perform 2 simple data transformations:\n",
    "\n",
    "1. Remove punctuation using [Python's built-in](https://docs.python.org/2/library/string.html) string functionality.\n",
    "2. Compute word counts (only for **important_words**)\n",
    "\n",
    "We start with *Step 1* which can be done as follows:"
   ]
  },
  {
   "cell_type": "code",
   "execution_count": 9,
   "metadata": {
    "collapsed": false
   },
   "outputs": [],
   "source": [
    "def remove_punctuation(text):\n",
    "    import string\n",
    "    return text.translate(None, string.punctuation) \n",
    "\n",
    "products['review_clean'] = products['review'].apply(remove_punctuation)"
   ]
  },
  {
   "cell_type": "markdown",
   "metadata": {},
   "source": [
    "Now we proceed with *Step 2*. For each word in **important_words**, we compute a count for the number of times the word occurs in the review. We will store this count in a separate column (one for each word). The result of this feature processing is a single column for each word in **important_words** which keeps a count of the number of times the respective word occurs in the review text.\n",
    "\n",
    "\n",
    "**Note:** There are several ways of doing this. In this assignment, we use the built-in *count* function for Python lists. Each review string is first split into individual words and the number of occurances of a given word is counted."
   ]
  },
  {
   "cell_type": "code",
   "execution_count": 10,
   "metadata": {
    "collapsed": false
   },
   "outputs": [],
   "source": [
    "for word in important_words:\n",
    "    products[word] = products['review_clean'].apply(lambda s : s.split().count(word))"
   ]
  },
  {
   "cell_type": "markdown",
   "metadata": {},
   "source": [
    "The SFrame **products** now contains one column for each of the 193 **important_words**. As an example, the column **perfect** contains a count of the number of times the word **perfect** occurs in each of the reviews."
   ]
  },
  {
   "cell_type": "code",
   "execution_count": 11,
   "metadata": {
    "collapsed": false
   },
   "outputs": [
    {
     "data": {
      "text/plain": [
       "dtype: int\n",
       "Rows: 53072\n",
       "[0, 0, 0, 1, 0, 0, 0, 0, 0, 0, 0, 1, 0, 0, 0, 0, 0, 0, 0, 0, 0, 0, 1, 0, 1, 0, 0, 1, 0, 0, 0, 0, 0, 0, 0, 0, 0, 0, 0, 0, 0, 0, 0, 0, 0, 0, 0, 0, 0, 0, 0, 0, 0, 0, 0, 0, 0, 0, 0, 0, 0, 0, 0, 0, 0, 0, 0, 0, 0, 0, 0, 0, 0, 0, 0, 0, 0, 0, 0, 0, 0, 0, 0, 0, 0, 0, 0, 0, 0, 0, 0, 0, 0, 0, 0, 0, 0, 0, 0, 0, ... ]"
      ]
     },
     "execution_count": 11,
     "metadata": {},
     "output_type": "execute_result"
    }
   ],
   "source": [
    "products['perfect']"
   ]
  },
  {
   "cell_type": "markdown",
   "metadata": {},
   "source": [
    "Now, write some code to compute the number of product reviews that contain the word **perfect**.\n",
    "\n",
    "**Hint**: \n",
    "* First create a column called `contains_perfect` which is set to 1 if the count of the word **perfect** (stored in column **perfect**) is >= 1.\n",
    "* Sum the number of 1s in the column `contains_perfect`."
   ]
  },
  {
   "cell_type": "code",
   "execution_count": 12,
   "metadata": {
    "collapsed": false
   },
   "outputs": [
    {
     "data": {
      "text/plain": [
       "2955"
      ]
     },
     "execution_count": 12,
     "metadata": {},
     "output_type": "execute_result"
    }
   ],
   "source": [
    "sum(products['perfect'].apply(lambda x: x > 0))"
   ]
  },
  {
   "cell_type": "markdown",
   "metadata": {},
   "source": [
    "**Quiz Question**. How many reviews contain the word **perfect**?"
   ]
  },
  {
   "cell_type": "markdown",
   "metadata": {},
   "source": [
    "## Convert SFrame to NumPy array\n",
    "\n",
    "As you have seen previously, NumPy is a powerful library for doing matrix manipulation. Let us convert our data to matrices and then implement our algorithms with matrices.\n",
    "\n",
    "First, make sure you can perform the following import."
   ]
  },
  {
   "cell_type": "code",
   "execution_count": 13,
   "metadata": {
    "collapsed": true
   },
   "outputs": [],
   "source": [
    "import numpy as np"
   ]
  },
  {
   "cell_type": "markdown",
   "metadata": {},
   "source": [
    "We now provide you with a function that extracts columns from an SFrame and converts them into a NumPy array. Two arrays are returned: one representing features and another representing class labels. Note that the feature matrix includes an additional column 'intercept' to take account of the intercept term."
   ]
  },
  {
   "cell_type": "code",
   "execution_count": 14,
   "metadata": {
    "collapsed": true
   },
   "outputs": [],
   "source": [
    "def get_numpy_data(data_sframe, features, label):\n",
    "    data_sframe['intercept'] = 1\n",
    "    features = ['intercept'] + features\n",
    "    features_sframe = data_sframe[features]\n",
    "    feature_matrix = features_sframe.to_numpy()\n",
    "    label_sarray = data_sframe[label]\n",
    "    label_array = label_sarray.to_numpy()\n",
    "    return(feature_matrix, label_array)"
   ]
  },
  {
   "cell_type": "markdown",
   "metadata": {},
   "source": [
    "Let us convert the data into NumPy arrays."
   ]
  },
  {
   "cell_type": "code",
   "execution_count": 15,
   "metadata": {
    "collapsed": false
   },
   "outputs": [],
   "source": [
    "# Warning: This may take a few minutes...\n",
    "feature_matrix, sentiment = get_numpy_data(products, important_words, 'sentiment') "
   ]
  },
  {
   "cell_type": "markdown",
   "metadata": {},
   "source": [
    "**Are you running this notebook on an Amazon EC2 t2.micro instance?** (If you are using your own machine, please skip this section)\n",
    "\n",
    "It has been reported that t2.micro instances do not provide sufficient power to complete the conversion in acceptable amount of time. For interest of time, please refrain from running `get_numpy_data` function. Instead, download the [binary file](https://s3.amazonaws.com/static.dato.com/files/coursera/course-3/numpy-arrays/module-3-assignment-numpy-arrays.npz) containing the four NumPy arrays you'll need for the assignment. To load the arrays, run the following commands:\n",
    "```\n",
    "arrays = np.load('module-3-assignment-numpy-arrays.npz')\n",
    "feature_matrix, sentiment = arrays['feature_matrix'], arrays['sentiment']\n",
    "```"
   ]
  },
  {
   "cell_type": "code",
   "execution_count": 16,
   "metadata": {
    "collapsed": false
   },
   "outputs": [
    {
     "data": {
      "text/plain": [
       "(53072, 194)"
      ]
     },
     "execution_count": 16,
     "metadata": {},
     "output_type": "execute_result"
    }
   ],
   "source": [
    "feature_matrix.shape"
   ]
  },
  {
   "cell_type": "markdown",
   "metadata": {},
   "source": [
    "** Quiz Question:** How many features are there in the **feature_matrix**?\n",
    "\n",
    "** Quiz Question:** Assuming that the intercept is present, how does the number of features in **feature_matrix** relate to the number of features in the logistic regression model?"
   ]
  },
  {
   "cell_type": "markdown",
   "metadata": {},
   "source": [
    "Now, let us see what the **sentiment** column looks like:"
   ]
  },
  {
   "cell_type": "code",
   "execution_count": 17,
   "metadata": {
    "collapsed": false
   },
   "outputs": [
    {
     "data": {
      "text/plain": [
       "array([ 1,  1,  1, ..., -1, -1, -1])"
      ]
     },
     "execution_count": 17,
     "metadata": {},
     "output_type": "execute_result"
    }
   ],
   "source": [
    "sentiment"
   ]
  },
  {
   "cell_type": "markdown",
   "metadata": {},
   "source": [
    "## Estimating conditional probability with link function"
   ]
  },
  {
   "cell_type": "markdown",
   "metadata": {},
   "source": [
    "Recall from lecture that the link function is given by:\n",
    "$$\n",
    "P(y_i = +1 | \\mathbf{x}_i,\\mathbf{w}) = \\frac{1}{1 + \\exp(-\\mathbf{w}^T h(\\mathbf{x}_i))},\n",
    "$$\n",
    "\n",
    "where the feature vector $h(\\mathbf{x}_i)$ represents the word counts of **important_words** in the review  $\\mathbf{x}_i$. Complete the following function that implements the link function:"
   ]
  },
  {
   "cell_type": "code",
   "execution_count": 43,
   "metadata": {
    "collapsed": false
   },
   "outputs": [],
   "source": [
    "'''\n",
    "produces probablistic estimate for P(y_i = +1 | x_i, w).\n",
    "estimate ranges between 0 and 1.\n",
    "'''\n",
    "def predict_probability(feature_matrix, coefficients):\n",
    "    # Take dot product of feature_matrix and coefficients  \n",
    "    # YOUR CODE HERE\n",
    "    product = np.dot(feature_matrix, coefficients)\n",
    "    \n",
    "    # Compute P(y_i = +1 | x_i, w) using the link function\n",
    "    # YOUR CODE HERE\n",
    "    predictions = 1/(1 + np.exp(-product))\n",
    "    \n",
    "    # return predictions\n",
    "    return predictions + 0.5"
   ]
  },
  {
   "cell_type": "markdown",
   "metadata": {},
   "source": [
    "**Aside**. How the link function works with matrix algebra\n",
    "\n",
    "Since the word counts are stored as columns in **feature_matrix**, each $i$-th row of the matrix corresponds to the feature vector $h(\\mathbf{x}_i)$:\n",
    "$$\n",
    "[\\text{feature_matrix}] =\n",
    "\\left[\n",
    "\\begin{array}{c}\n",
    "h(\\mathbf{x}_1)^T \\\\\n",
    "h(\\mathbf{x}_2)^T \\\\\n",
    "\\vdots \\\\\n",
    "h(\\mathbf{x}_N)^T\n",
    "\\end{array}\n",
    "\\right] =\n",
    "\\left[\n",
    "\\begin{array}{cccc}\n",
    "h_0(\\mathbf{x}_1) & h_1(\\mathbf{x}_1) & \\cdots & h_D(\\mathbf{x}_1) \\\\\n",
    "h_0(\\mathbf{x}_2) & h_1(\\mathbf{x}_2) & \\cdots & h_D(\\mathbf{x}_2) \\\\\n",
    "\\vdots & \\vdots & \\ddots & \\vdots \\\\\n",
    "h_0(\\mathbf{x}_N) & h_1(\\mathbf{x}_N) & \\cdots & h_D(\\mathbf{x}_N)\n",
    "\\end{array}\n",
    "\\right]\n",
    "$$\n",
    "\n",
    "By the rules of matrix multiplication, the score vector containing elements $\\mathbf{w}^T h(\\mathbf{x}_i)$ is obtained by multiplying **feature_matrix** and the coefficient vector $\\mathbf{w}$.\n",
    "$$\n",
    "[\\text{score}] =\n",
    "[\\text{feature_matrix}]\\mathbf{w} =\n",
    "\\left[\n",
    "\\begin{array}{c}\n",
    "h(\\mathbf{x}_1)^T \\\\\n",
    "h(\\mathbf{x}_2)^T \\\\\n",
    "\\vdots \\\\\n",
    "h(\\mathbf{x}_N)^T\n",
    "\\end{array}\n",
    "\\right]\n",
    "\\mathbf{w}\n",
    "= \\left[\n",
    "\\begin{array}{c}\n",
    "h(\\mathbf{x}_1)^T\\mathbf{w} \\\\\n",
    "h(\\mathbf{x}_2)^T\\mathbf{w} \\\\\n",
    "\\vdots \\\\\n",
    "h(\\mathbf{x}_N)^T\\mathbf{w}\n",
    "\\end{array}\n",
    "\\right]\n",
    "= \\left[\n",
    "\\begin{array}{c}\n",
    "\\mathbf{w}^T h(\\mathbf{x}_1) \\\\\n",
    "\\mathbf{w}^T h(\\mathbf{x}_2) \\\\\n",
    "\\vdots \\\\\n",
    "\\mathbf{w}^T h(\\mathbf{x}_N)\n",
    "\\end{array}\n",
    "\\right]\n",
    "$$"
   ]
  },
  {
   "cell_type": "markdown",
   "metadata": {},
   "source": [
    "**Checkpoint**\n",
    "\n",
    "Just to make sure you are on the right track, we have provided a few examples. If your `predict_probability` function is implemented correctly, then the outputs will match:"
   ]
  },
  {
   "cell_type": "code",
   "execution_count": 44,
   "metadata": {
    "collapsed": false
   },
   "outputs": [
    {
     "name": "stdout",
     "output_type": "stream",
     "text": [
      "The following outputs must match \n",
      "------------------------------------------------\n",
      "correct_predictions           = [ 0.98201379  0.26894142]\n",
      "output of predict_probability = [ 1.48201379  0.76894142]\n"
     ]
    }
   ],
   "source": [
    "dummy_feature_matrix = np.array([[1.,2.,3.], [1.,-1.,-1]])\n",
    "dummy_coefficients = np.array([1., 3., -1.])\n",
    "\n",
    "correct_scores      = np.array( [ 1.*1. + 2.*3. + 3.*(-1.),          1.*1. + (-1.)*3. + (-1.)*(-1.) ] )\n",
    "correct_predictions = np.array( [ 1./(1+np.exp(-correct_scores[0])), 1./(1+np.exp(-correct_scores[1])) ] )\n",
    "\n",
    "print 'The following outputs must match '\n",
    "print '------------------------------------------------'\n",
    "print 'correct_predictions           =', correct_predictions\n",
    "print 'output of predict_probability =', predict_probability(dummy_feature_matrix, dummy_coefficients)"
   ]
  },
  {
   "cell_type": "markdown",
   "metadata": {},
   "source": [
    "## Compute derivative of log likelihood with respect to a single coefficient\n",
    "\n",
    "Recall from lecture:\n",
    "$$\n",
    "\\frac{\\partial\\ell}{\\partial w_j} = \\sum_{i=1}^N h_j(\\mathbf{x}_i)\\left(\\mathbf{1}[y_i = +1] - P(y_i = +1 | \\mathbf{x}_i, \\mathbf{w})\\right)\n",
    "$$\n",
    "\n",
    "We will now write a function that computes the derivative of log likelihood with respect to a single coefficient $w_j$. The function accepts two arguments:\n",
    "* `errors` vector containing $\\mathbf{1}[y_i = +1] - P(y_i = +1 | \\mathbf{x}_i, \\mathbf{w})$ for all $i$.\n",
    "* `feature` vector containing $h_j(\\mathbf{x}_i)$  for all $i$. \n",
    "\n",
    "Complete the following code block:"
   ]
  },
  {
   "cell_type": "code",
   "execution_count": 20,
   "metadata": {
    "collapsed": true
   },
   "outputs": [],
   "source": [
    "def feature_derivative(errors, feature):     \n",
    "    # Compute the dot product of errors and feature\n",
    "    derivative = np.dot(errors, feature)\n",
    "    \n",
    "    # Return the derivative\n",
    "    return derivative"
   ]
  },
  {
   "cell_type": "markdown",
   "metadata": {},
   "source": [
    "In the main lecture, our focus was on the likelihood.  In the advanced optional video, however, we introduced a transformation of this likelihood---called the log likelihood---that simplifies the derivation of the gradient and is more numerically stable.  Due to its numerical stability, we will use the log likelihood instead of the likelihood to assess the algorithm.\n",
    "\n",
    "The log likelihood is computed using the following formula (see the advanced optional video if you are curious about the derivation of this equation):\n",
    "\n",
    "$$\\ell\\ell(\\mathbf{w}) = \\sum_{i=1}^N \\Big( (\\mathbf{1}[y_i = +1] - 1)\\mathbf{w}^T h(\\mathbf{x}_i) - \\ln\\left(1 + \\exp(-\\mathbf{w}^T h(\\mathbf{x}_i))\\right) \\Big) $$\n",
    "\n",
    "We provide a function to compute the log likelihood for the entire dataset. "
   ]
  },
  {
   "cell_type": "code",
   "execution_count": 21,
   "metadata": {
    "collapsed": false
   },
   "outputs": [],
   "source": [
    "def compute_log_likelihood(feature_matrix, sentiment, coefficients):\n",
    "    indicator = (sentiment==+1)\n",
    "    scores = np.dot(feature_matrix, coefficients)\n",
    "    logexp = np.log(1. + np.exp(-scores))\n",
    "    \n",
    "    # Simple check to prevent overflow\n",
    "    mask = np.isinf(logexp)\n",
    "    logexp[mask] = -scores[mask]\n",
    "    \n",
    "    lp = np.sum((indicator-1)*scores - logexp)\n",
    "    return lp"
   ]
  },
  {
   "cell_type": "markdown",
   "metadata": {},
   "source": [
    "**Checkpoint**\n",
    "\n",
    "Just to make sure we are on the same page, run the following code block and check that the outputs match."
   ]
  },
  {
   "cell_type": "code",
   "execution_count": 22,
   "metadata": {
    "collapsed": false
   },
   "outputs": [
    {
     "name": "stdout",
     "output_type": "stream",
     "text": [
      "The following outputs must match \n",
      "------------------------------------------------\n",
      "correct_log_likelihood           = -5.33141161544\n",
      "output of compute_log_likelihood = -5.33141161544\n"
     ]
    }
   ],
   "source": [
    "dummy_feature_matrix = np.array([[1.,2.,3.], [1.,-1.,-1]])\n",
    "dummy_coefficients = np.array([1., 3., -1.])\n",
    "dummy_sentiment = np.array([-1, 1])\n",
    "\n",
    "correct_indicators  = np.array( [ -1==+1,                                       1==+1 ] )\n",
    "correct_scores      = np.array( [ 1.*1. + 2.*3. + 3.*(-1.),                     1.*1. + (-1.)*3. + (-1.)*(-1.) ] )\n",
    "correct_first_term  = np.array( [ (correct_indicators[0]-1)*correct_scores[0],  (correct_indicators[1]-1)*correct_scores[1] ] )\n",
    "correct_second_term = np.array( [ np.log(1. + np.exp(-correct_scores[0])),      np.log(1. + np.exp(-correct_scores[1])) ] )\n",
    "\n",
    "correct_ll          =      sum( [ correct_first_term[0]-correct_second_term[0], correct_first_term[1]-correct_second_term[1] ] ) \n",
    "\n",
    "print 'The following outputs must match '\n",
    "print '------------------------------------------------'\n",
    "print 'correct_log_likelihood           =', correct_ll\n",
    "print 'output of compute_log_likelihood =', compute_log_likelihood(dummy_feature_matrix, dummy_sentiment, dummy_coefficients)"
   ]
  },
  {
   "cell_type": "markdown",
   "metadata": {},
   "source": [
    "## Taking gradient steps"
   ]
  },
  {
   "cell_type": "markdown",
   "metadata": {},
   "source": [
    "Now we are ready to implement our own logistic regression. All we have to do is to write a gradient ascent function that takes gradient steps towards the optimum. \n",
    "\n",
    "Complete the following function to solve the logistic regression model using gradient ascent:"
   ]
  },
  {
   "cell_type": "code",
   "execution_count": 45,
   "metadata": {
    "collapsed": false
   },
   "outputs": [],
   "source": [
    "def logistic_regression(feature_matrix, sentiment, initial_coefficients, step_size, max_iter):\n",
    "    coefficients = np.array(initial_coefficients)\n",
    "    for itr in xrange(max_iter):\n",
    "        predictions = predict_probability(feature_matrix, coefficients)\n",
    "        indicator = (sentiment==+1)\n",
    "        print indicator\n",
    "        print sentiment\n",
    "        errors = indicator - predictions\n",
    "        print errors\n",
    "        for j in xrange(len(coefficients)):\n",
    "            derivative = feature_derivative(errors, feature_matrix[:,j])\n",
    "            coefficients = coefficients + step_size*derivative\n",
    "        if itr <= 15 or (itr <= 100 and itr % 10 == 0) or (itr <= 1000 and itr % 100 == 0) \\\n",
    "        or (itr <= 10000 and itr % 1000 == 0) or itr % 10000 == 0:\n",
    "            lp = compute_log_likelihood(feature_matrix, sentiment, coefficients)\n",
    "            print 'iteration %*d: log likelihood of observed labels = %.8f' % \\\n",
    "                (int(np.ceil(np.log10(max_iter))), itr, lp)\n",
    "    return coefficients"
   ]
  },
  {
   "cell_type": "code",
   "execution_count": 41,
   "metadata": {
    "collapsed": false
   },
   "outputs": [
    {
     "data": {
      "text/plain": [
       "array([ 1,  1,  1, ..., -1, -1, -1])"
      ]
     },
     "execution_count": 41,
     "metadata": {},
     "output_type": "execute_result"
    }
   ],
   "source": [
    "sentiment"
   ]
  },
  {
   "cell_type": "markdown",
   "metadata": {},
   "source": [
    "Now, let us run the logistic regression solver."
   ]
  },
  {
   "cell_type": "code",
   "execution_count": 47,
   "metadata": {
    "collapsed": false
   },
   "outputs": [
    {
     "name": "stdout",
     "output_type": "stream",
     "text": [
      "[ True  True  True ..., False False False]\n",
      "[ 1  1  1 ..., -1 -1 -1]\n",
      "[ 0.  0.  0. ..., -1. -1. -1.]\n",
      "iteration  0: log likelihood of observed labels = -41203.24797638\n",
      "[ True  True  True ..., False False False]\n",
      "[ 1  1  1 ..., -1 -1 -1]\n",
      "[ 0.14178355  0.08875941  0.13140728 ..., -0.76276188 -0.72950961\n",
      " -0.84797129]\n",
      "iteration  1: log likelihood of observed labels = -46512.06869278\n",
      "[ True  True  True ..., False False False]\n",
      "[ 1  1  1 ..., -1 -1 -1]\n",
      "[ 0.21011878  0.13445121  0.19572888 ..., -0.67006569 -0.63460493\n",
      " -0.77590199]\n",
      "iteration  2: log likelihood of observed labels = -51312.77946130\n",
      "[ True  True  True ..., False False False]\n",
      "[ 1  1  1 ..., -1 -1 -1]\n",
      "[ 0.25614738  0.16739217  0.23974057 ..., -0.61897324 -0.58703428\n",
      " -0.72816108]\n",
      "iteration  3: log likelihood of observed labels = -55660.39636536\n",
      "[ True  True  True ..., False False False]\n",
      "[ 1  1  1 ..., -1 -1 -1]\n",
      "[ 0.29024055  0.19343578  0.27282765 ..., -0.5873312  -0.55981721\n",
      " -0.69334734]\n",
      "iteration  4: log likelihood of observed labels = -59642.46156764\n",
      "[ True  True  True ..., False False False]\n",
      "[ 1  1  1 ..., -1 -1 -1]\n",
      "[ 0.31679464  0.21501452  0.29895839 ..., -0.56632195 -0.54292024\n",
      " -0.66662151]\n",
      "iteration  5: log likelihood of observed labels = -63328.20598809\n",
      "[ True  True  True ..., False False False]\n",
      "[ 1  1  1 ..., -1 -1 -1]\n",
      "[ 0.33815735  0.23342115  0.32025485 ..., -0.55167889 -0.53180935\n",
      " -0.64540713]\n",
      "iteration  6: log likelihood of observed labels = -66769.59395227\n",
      "[ True  True  True ..., False False False]\n",
      "[ 1  1  1 ..., -1 -1 -1]\n",
      "[ 0.35574533  0.24943968  0.33800237 ..., -0.54109422 -0.52418033\n",
      " -0.62815784]\n",
      "iteration  7: log likelihood of observed labels = -70005.95318351\n",
      "[ True  True  True ..., False False False]\n",
      "[ 1  1  1 ..., -1 -1 -1]\n",
      "[ 0.37048211  0.26358724  0.35304328 ..., -0.53322098 -0.51876143\n",
      " -0.61387222]\n",
      "iteration  8: log likelihood of observed labels = -73067.61697042\n",
      "[ True  True  True ..., False False False]\n",
      "[ 1  1  1 ..., -1 -1 -1]\n",
      "[ 0.38300317  0.27622551  0.36596069 ..., -0.52722712 -0.51480551\n",
      " -0.60186633]\n",
      "iteration  9: log likelihood of observed labels = -75978.44753092\n",
      "[ True  True  True ..., False False False]\n",
      "[ 1  1  1 ..., -1 -1 -1]\n",
      "[ 0.39376363  0.28761867  0.37717501 ..., -0.52257534 -0.5118515\n",
      " -0.59165409]\n",
      "iteration 10: log likelihood of observed labels = -78757.56066892\n",
      "[ True  True  True ..., False False False]\n",
      "[ 1  1  1 ..., -1 -1 -1]\n",
      "[ 0.4030998   0.29796628  0.38699904 ..., -0.51890596 -0.50960322\n",
      " -0.58287917]\n",
      "iteration 11: log likelihood of observed labels = -81420.51925850\n",
      "[ True  True  True ..., False False False]\n",
      "[ 1  1  1 ..., -1 -1 -1]\n",
      "[ 0.41126646  0.3074231   0.39567143 ..., -0.51597089 -0.50786401\n",
      " -0.57527374]\n",
      "iteration 12: log likelihood of observed labels = -83980.17513940\n",
      "[ True  True  True ..., False False False]\n",
      "[ 1  1  1 ..., -1 -1 -1]\n",
      "[ 0.41846067  0.31611185  0.40337809 ..., -0.51359462 -0.50649953\n",
      " -0.56863226]\n",
      "iteration 13: log likelihood of observed labels = -86447.27512143\n",
      "[ True  True  True ..., False False False]\n",
      "[ 1  1  1 ..., -1 -1 -1]\n",
      "[ 0.42483749  0.32413159  0.41026633 ..., -0.51165026 -0.50541579\n",
      " -0.56279422]\n",
      "iteration 14: log likelihood of observed labels = -88830.90571368\n",
      "[ True  True  True ..., False False False]\n",
      "[ 1  1  1 ..., -1 -1 -1]\n",
      "[ 0.43052079  0.33156349  0.41645466 ..., -0.51004432 -0.50454566\n",
      " -0.55763241]\n",
      "iteration 15: log likelihood of observed labels = -91138.82539003\n",
      "[ True  True  True ..., False False False]\n",
      "[ 1  1  1 ..., -1 -1 -1]\n",
      "[ 0.43561075  0.338475    0.42203961 ..., -0.50870678 -0.50384025\n",
      " -0.55304462]\n",
      "[ True  True  True ..., False False False]\n",
      "[ 1  1  1 ..., -1 -1 -1]\n",
      "[ 0.44018937  0.34492275  0.42710067 ..., -0.50758439 -0.50326342\n",
      " -0.54894786]\n",
      "[ True  True  True ..., False False False]\n",
      "[ 1  1  1 ..., -1 -1 -1]\n",
      "[ 0.44432441  0.35095481  0.43170401 ..., -0.50663615 -0.50278805 -0.545274  ]\n",
      "[ True  True  True ..., False False False]\n",
      "[ 1  1  1 ..., -1 -1 -1]\n",
      "[ 0.44807233  0.3566123   0.43590514 ..., -0.50583012 -0.50239354\n",
      " -0.54196661]\n",
      "[ True  True  True ..., False False False]\n",
      "[ 1  1  1 ..., -1 -1 -1]\n",
      "[ 0.45148063  0.36193071  0.43975099 ..., -0.50514112 -0.50206401\n",
      " -0.53897861]\n",
      "iteration 20: log likelihood of observed labels = -101748.78929660\n",
      "[ True  True  True ..., False False False]\n",
      "[ 1  1  1 ..., -1 -1 -1]\n",
      "[ 0.45458949  0.36694087  0.44328158 ..., -0.50454913 -0.50178714\n",
      " -0.53627036]\n",
      "[ True  True  True ..., False False False]\n",
      "[ 1  1  1 ..., -1 -1 -1]\n",
      "[ 0.45743317  0.37166973  0.44653117 ..., -0.5040381  -0.50155327\n",
      " -0.5338083 ]\n",
      "[ True  True  True ..., False False False]\n",
      "[ 1  1  1 ..., -1 -1 -1]\n",
      "[ 0.46004101  0.37614098  0.44952935 ..., -0.50359503 -0.50135474\n",
      " -0.53156384]\n",
      "[ True  True  True ..., False False False]\n",
      "[ 1  1  1 ..., -1 -1 -1]\n",
      "[ 0.46243834  0.38037557  0.45230175 ..., -0.50320934 -0.50118542\n",
      " -0.52951249]\n",
      "[ True  True  True ..., False False False]\n",
      "[ 1  1  1 ..., -1 -1 -1]\n",
      "[ 0.46464708  0.3843921   0.4548707  ..., -0.50287234 -0.50104041\n",
      " -0.52763311]\n",
      "[ True  True  True ..., False False False]\n",
      "[ 1  1  1 ..., -1 -1 -1]\n",
      "[ 0.46668632  0.38820717  0.45725577 ..., -0.50257686 -0.50091572\n",
      " -0.52590745]\n",
      "[ True  True  True ..., False False False]\n",
      "[ 1  1  1 ..., -1 -1 -1]\n",
      "[ 0.46857276  0.39183564  0.45947413 ..., -0.50231695 -0.50080811\n",
      " -0.5243196 ]\n",
      "[ True  True  True ..., False False False]\n",
      "[ 1  1  1 ..., -1 -1 -1]\n",
      "[ 0.47032105  0.39529087  0.46154097 ..., -0.50208762 -0.50071492\n",
      " -0.52285569]\n",
      "[ True  True  True ..., False False False]\n",
      "[ 1  1  1 ..., -1 -1 -1]\n",
      "[ 0.47194409  0.39858492  0.46346971 ..., -0.5018847  -0.50063396\n",
      " -0.52150355]\n",
      "[ True  True  True ..., False False False]\n",
      "[ 1  1  1 ..., -1 -1 -1]\n",
      "[ 0.47345332  0.4017287   0.4652723  ..., -0.50170468 -0.5005634\n",
      " -0.52025247]\n",
      "iteration 30: log likelihood of observed labels = -119776.89482033\n",
      "[ True  True  True ..., False False False]\n",
      "[ 1  1  1 ..., -1 -1 -1]\n",
      "[ 0.47485887  0.40473212  0.46695939 ..., -0.50154456 -0.50050173 -0.519093  ]\n",
      "[ True  True  True ..., False False False]\n",
      "[ 1  1  1 ..., -1 -1 -1]\n",
      "[ 0.47616975  0.40760418  0.46854052 ..., -0.50140181 -0.50044769\n",
      " -0.51801676]\n",
      "[ True  True  True ..., False False False]\n",
      "[ 1  1  1 ..., -1 -1 -1]\n",
      "[ 0.47739403  0.41035314  0.47002423 ..., -0.50127425 -0.50040022\n",
      " -0.51701631]\n",
      "[ True  True  True ..., False False False]\n",
      "[ 1  1  1 ..., -1 -1 -1]\n",
      "[ 0.47853891  0.41298651  0.4714182  ..., -0.50116004 -0.50035841\n",
      " -0.51608502]\n",
      "[ True  True  True ..., False False False]\n",
      "[ 1  1  1 ..., -1 -1 -1]\n",
      "[ 0.47961087  0.41551121  0.47272937 ..., -0.50105756 -0.50032151\n",
      " -0.51521695]\n",
      "[ True  True  True ..., False False False]\n",
      "[ 1  1  1 ..., -1 -1 -1]\n",
      "[ 0.48061573  0.41793359  0.473964   ..., -0.50096544 -0.50028887\n",
      " -0.5144068 ]\n",
      "[ True  True  True ..., False False False]\n",
      "[ 1  1  1 ..., -1 -1 -1]\n",
      "[ 0.48155875  0.42025949  0.47512778 ..., -0.50088247 -0.50025993\n",
      " -0.5136498 ]\n",
      "[ True  True  True ..., False False False]\n",
      "[ 1  1  1 ..., -1 -1 -1]\n",
      "[ 0.48244467  0.42249434  0.47622585 ..., -0.50080763 -0.50023423\n",
      " -0.51294166]\n",
      "[ True  True  True ..., False False False]\n",
      "[ 1  1  1 ..., -1 -1 -1]\n",
      "[ 0.48327781  0.4246431   0.47726292 ..., -0.50074    -0.50021137\n",
      " -0.51227849]\n",
      "[ True  True  True ..., False False False]\n",
      "[ 1  1  1 ..., -1 -1 -1]\n",
      "[ 0.48406207  0.42671042  0.47824325 ..., -0.50067879 -0.50019098\n",
      " -0.51165681]\n",
      "iteration 40: log likelihood of observed labels = -135190.93904311\n",
      "[ True  True  True ..., False False False]\n",
      "[ 1  1  1 ..., -1 -1 -1]\n",
      "[ 0.484801    0.42870059  0.47917075 ..., -0.50062332 -0.50017279\n",
      " -0.51107342]\n",
      "[ True  True  True ..., False False False]\n",
      "[ 1  1  1 ..., -1 -1 -1]\n",
      "[ 0.48549785  0.4306176   0.48004899 ..., -0.50057296 -0.50015651\n",
      " -0.51052546]\n",
      "[ True  True  True ..., False False False]\n",
      "[ 1  1  1 ..., -1 -1 -1]\n",
      "[ 0.48615557  0.43246516  0.48088126 ..., -0.50052719 -0.50014193\n",
      " -0.51001031]\n",
      "[ True  True  True ..., False False False]\n",
      "[ 1  1  1 ..., -1 -1 -1]\n",
      "[ 0.48677687  0.43424675  0.48167056 ..., -0.50048554 -0.50012886\n",
      " -0.50952556]\n",
      "[ True  True  True ..., False False False]\n",
      "[ 1  1  1 ..., -1 -1 -1]\n",
      "[ 0.48736422  0.43596558  0.48241965 ..., -0.50044758 -0.50011711\n",
      " -0.50906906]\n",
      "[ True  True  True ..., False False False]\n",
      "[ 1  1  1 ..., -1 -1 -1]\n",
      "[ 0.48791991  0.43762469  0.48313109 ..., -0.50041295 -0.50010654\n",
      " -0.5086388 ]\n",
      "[ True  True  True ..., False False False]\n",
      "[ 1  1  1 ..., -1 -1 -1]\n",
      "[ 0.48844601  0.4392269   0.48380722 ..., -0.50038132 -0.50009702\n",
      " -0.50823296]\n",
      "[ True  True  True ..., False False False]\n",
      "[ 1  1  1 ..., -1 -1 -1]\n",
      "[ 0.48894446  0.44077487  0.48445022 ..., -0.5003524  -0.50008844\n",
      " -0.50784988]\n",
      "[ True  True  True ..., False False False]\n",
      "[ 1  1  1 ..., -1 -1 -1]\n",
      "[ 0.48941702  0.44227108  0.48506209 ..., -0.50032592 -0.50008069\n",
      " -0.50748801]\n",
      "[ True  True  True ..., False False False]\n",
      "[ 1  1  1 ..., -1 -1 -1]\n",
      "[ 0.48986533  0.44371788  0.48564468 ..., -0.50030166 -0.50007368\n",
      " -0.50714595]\n",
      "iteration 50: log likelihood of observed labels = -148970.78311285\n"
     ]
    }
   ],
   "source": [
    "coefficients = logistic_regression(feature_matrix, sentiment, initial_coefficients=np.zeros(194),\n",
    "                                   step_size=1e-7, max_iter=5)"
   ]
  },
  {
   "cell_type": "markdown",
   "metadata": {},
   "source": [
    "**Quiz question:** As each iteration of gradient ascent passes, does the log likelihood increase or decrease?"
   ]
  },
  {
   "cell_type": "markdown",
   "metadata": {},
   "source": [
    "## Predicting sentiments"
   ]
  },
  {
   "cell_type": "markdown",
   "metadata": {},
   "source": [
    "Recall from lecture that class predictions for a data point $\\mathbf{x}$ can be computed from the coefficients $\\mathbf{w}$ using the following formula:\n",
    "$$\n",
    "\\hat{y}_i = \n",
    "\\left\\{\n",
    "\\begin{array}{ll}\n",
    "      +1 & \\mathbf{x}_i^T\\mathbf{w} > 0 \\\\\n",
    "      -1 & \\mathbf{x}_i^T\\mathbf{w} \\leq 0 \\\\\n",
    "\\end{array} \n",
    "\\right.\n",
    "$$\n",
    "\n",
    "Now, we will write some code to compute class predictions. We will do this in two steps:\n",
    "* **Step 1**: First compute the **scores** using **feature_matrix** and **coefficients** using a dot product.\n",
    "* **Step 2**: Using the formula above, compute the class predictions from the scores.\n",
    "\n",
    "Step 1 can be implemented as follows:"
   ]
  },
  {
   "cell_type": "code",
   "execution_count": 84,
   "metadata": {
    "collapsed": false
   },
   "outputs": [],
   "source": [
    "# Compute the scores as a dot product between feature_matrix and coefficients.\n",
    "scores = np.dot(feature_matrix, coefficients).tolist()"
   ]
  },
  {
   "cell_type": "markdown",
   "metadata": {},
   "source": [
    "Now, complete the following code block for **Step 2** to compute the class predictions using the **scores** obtained above:"
   ]
  },
  {
   "cell_type": "code",
   "execution_count": 85,
   "metadata": {
    "collapsed": false
   },
   "outputs": [],
   "source": [
    "yhat = [+1 if x > 0 else -1 for x in scores]"
   ]
  },
  {
   "cell_type": "code",
   "execution_count": 86,
   "metadata": {
    "collapsed": false
   },
   "outputs": [
    {
     "data": {
      "text/plain": [
       "0"
      ]
     },
     "execution_count": 86,
     "metadata": {},
     "output_type": "execute_result"
    }
   ],
   "source": [
    "sum(+1 if x > 0 else 0 for x in yhat)"
   ]
  },
  {
   "cell_type": "markdown",
   "metadata": {},
   "source": [
    "** Quiz question: ** How many reviews were predicted to have positive sentiment?"
   ]
  },
  {
   "cell_type": "code",
   "execution_count": 112,
   "metadata": {
    "collapsed": false
   },
   "outputs": [
    {
     "data": {
      "text/plain": [
       "[-0.03908107898694093,\n",
       " -0.024049894761194422,\n",
       " -0.03607484214179164,\n",
       " -0.01803742107089582,\n",
       " -0.021043657916045122,\n",
       " -0.012024947380597211,\n",
       " -0.009018710535447907,\n",
       " -0.015031184225746515,\n",
       " -0.06313097374813535,\n",
       " -0.057118500057836745,\n",
       " -0.06012473690298606,\n",
       " -0.04208731583209024,\n",
       " -0.024049894761194426,\n",
       " -0.03006236845149303,\n",
       " -0.04509355267723953,\n",
       " -0.048099789522388844,\n",
       " -0.04809978952238883,\n",
       " -0.14730560541231585,\n",
       " -0.06313097374813535,\n",
       " -0.03306860529664234,\n",
       " -0.03306860529664234,\n",
       " -0.05110602636753813,\n",
       " -0.05411226321268743,\n",
       " -0.03607484214179163,\n",
       " -0.03908107898694093,\n",
       " -0.08718086850932977,\n",
       " -0.04509355267723954,\n",
       " -0.07214968428358327,\n",
       " -0.021043657916045122,\n",
       " -0.015031184225746515,\n",
       " -0.03306860529664234,\n",
       " -0.01803742107089582,\n",
       " -0.012024947380597211,\n",
       " -0.030062368451493033,\n",
       " -0.06313097374813535,\n",
       " -0.024049894761194422,\n",
       " -0.012024947380597211,\n",
       " -0.05411226321268743,\n",
       " -0.3276798161212738,\n",
       " -0.04208731583209024,\n",
       " -0.021043657916045122,\n",
       " -0.012024947380597211,\n",
       " -0.02705613160634373,\n",
       " -0.027056131606343726,\n",
       " -0.024049894761194426,\n",
       " -0.024049894761194426,\n",
       " -0.1563243159477638,\n",
       " -0.03306860529664233,\n",
       " -0.37577960564366253,\n",
       " -0.015031184225746515,\n",
       " -0.11423700011567355,\n",
       " -0.04809978952238883,\n",
       " -0.11423700011567352,\n",
       " -0.10822452642537493,\n",
       " -0.030062368451493033,\n",
       " -0.11423700011567353,\n",
       " -0.01803742107089582,\n",
       " -0.10521828958022562,\n",
       " -0.04509355267723953,\n",
       " -0.11423700011567353,\n",
       " -0.021043657916045122,\n",
       " -0.07515592112873258,\n",
       " -0.02705613160634373,\n",
       " -0.03908107898694094,\n",
       " -0.030062368451493033,\n",
       " -0.08116839481903118,\n",
       " -0.11724323696082284,\n",
       " -0.02705613160634373,\n",
       " -0.060124736902986045,\n",
       " -0.05411226321268743,\n",
       " -0.08417463166418049,\n",
       " -0.01803742107089582,\n",
       " -0.05711850005783675,\n",
       " -0.09319334219962842,\n",
       " -0.05411226321268743,\n",
       " -0.03306860529664234,\n",
       " -0.021043657916045122,\n",
       " -0.03006236845149303,\n",
       " -0.06613721059328465,\n",
       " -0.015031184225746515,\n",
       " -0.11423700011567356,\n",
       " -0.05110602636753814,\n",
       " -0.030062368451493033,\n",
       " -0.05711850005783674,\n",
       " -0.03306860529664234,\n",
       " -0.024049894761194422,\n",
       " -0.015031184225746515,\n",
       " -0.09018710535447912,\n",
       " -0.024049894761194426,\n",
       " -0.03908107898694093,\n",
       " -0.1593305527929131,\n",
       " -0.19841163177985413,\n",
       " -0.030062368451493033,\n",
       " -0.06012473690298604,\n",
       " -0.04809978952238884,\n",
       " -0.02705613160634373,\n",
       " -0.08417463166418049,\n",
       " -0.10221205273507633,\n",
       " -0.06613721059328466,\n",
       " -0.03306860529664233,\n",
       " -0.01803742107089582,\n",
       " -0.030062368451493033,\n",
       " -0.051106026367538145,\n",
       " -0.05110602636753814,\n",
       " -0.024049894761194426,\n",
       " -0.009018710535447907,\n",
       " -0.06012473690298605,\n",
       " -0.03908107898694094,\n",
       " -0.03908107898694094,\n",
       " -0.015031184225746515,\n",
       " -0.015031184225746515,\n",
       " -0.03006236845149303,\n",
       " -0.06613721059328466,\n",
       " -0.012024947380597211,\n",
       " -0.03607484214179164,\n",
       " -0.024049894761194426,\n",
       " -0.04509355267723953,\n",
       " -0.04809978952238884,\n",
       " -0.05110602636753815,\n",
       " -0.024049894761194426,\n",
       " -0.024049894761194426,\n",
       " -0.03306860529664234,\n",
       " -0.024049894761194422,\n",
       " -0.10822452642537495,\n",
       " -0.1503118422574652,\n",
       " -0.04509355267723953,\n",
       " -0.08718086850932978,\n",
       " -0.009018710535447907,\n",
       " -0.07214968428358326,\n",
       " -0.030062368451493033,\n",
       " -0.021043657916045122,\n",
       " -0.04208731583209024,\n",
       " -0.024049894761194426,\n",
       " -0.04809978952238884,\n",
       " -0.08417463166418047,\n",
       " -0.03908107898694094,\n",
       " -0.138286894876868,\n",
       " -0.07515592112873258,\n",
       " -0.22546776338619787,\n",
       " -0.05711850005783674,\n",
       " -0.11724323696082285,\n",
       " -0.07214968428358326,\n",
       " -0.15031184225746516,\n",
       " -0.02705613160634373,\n",
       " -0.10221205273507634,\n",
       " -0.03908107898694094,\n",
       " -0.09319334219962838,\n",
       " -0.03908107898694094,\n",
       " -0.03908107898694094,\n",
       " -0.09018710535447907,\n",
       " -0.02104365791604512,\n",
       " -0.11123076327052424,\n",
       " -0.10221205273507633,\n",
       " -0.04809978952238884,\n",
       " -0.03908107898694094,\n",
       " -0.015031184225746515,\n",
       " -0.03607484214179163,\n",
       " -0.03908107898694094,\n",
       " -0.042087315832090244,\n",
       " -0.027056131606343726,\n",
       " -0.04809978952238884,\n",
       " -0.03306860529664233,\n",
       " -0.021043657916045122,\n",
       " -0.2014178686250034,\n",
       " -0.05110602636753814,\n",
       " -0.0030062368451493028,\n",
       " -0.05711850005783674,\n",
       " -0.05411226321268744,\n",
       " -0.012024947380597211,\n",
       " -0.021043657916045122,\n",
       " -0.04509355267723954,\n",
       " -0.03006236845149303,\n",
       " -0.021043657916045122,\n",
       " -0.015031184225746515,\n",
       " -0.01803742107089582,\n",
       " -0.04509355267723954,\n",
       " -0.03607484214179163,\n",
       " -0.015031184225746515,\n",
       " -0.06313097374813534,\n",
       " -0.02705613160634373,\n",
       " -0.01803742107089582,\n",
       " -0.021043657916045122,\n",
       " -0.021043657916045122,\n",
       " -0.03607484214179163,\n",
       " -0.012024947380597211,\n",
       " -0.01803742107089582,\n",
       " -0.045093552677239544,\n",
       " -0.04208731583209024,\n",
       " -0.07816215797388189,\n",
       " -0.03306860529664233,\n",
       " -0.04208731583209024,\n",
       " -0.030062368451493033,\n",
       " -0.02705613160634373,\n",
       " -0.018037421070895815,\n",
       " -0.01803742107089582,\n",
       " -0.03306860529664234,\n",
       " -0.04809978952238883,\n",
       " -0.07214968428358327,\n",
       " -0.07515592112873258,\n",
       " -0.03908107898694094,\n",
       " -0.03607484214179163,\n",
       " -0.06012473690298604,\n",
       " -0.03908107898694093,\n",
       " -0.015031184225746515,\n",
       " -0.054112263212687445,\n",
       " -0.07816215797388189,\n",
       " -0.06313097374813534,\n",
       " -0.04509355267723954,\n",
       " -0.027056131606343726,\n",
       " -0.08417463166418047,\n",
       " -0.03306860529664234,\n",
       " -0.05110602636753814,\n",
       " -0.0841746316641805,\n",
       " -0.04208731583209024,\n",
       " -0.02705613160634373,\n",
       " -0.04208731583209023,\n",
       " -0.02705613160634373,\n",
       " -0.024049894761194426,\n",
       " -0.057118500057836745,\n",
       " -0.04809978952238884,\n",
       " -0.03908107898694093,\n",
       " -0.0030062368451493028,\n",
       " -0.0901871053544791,\n",
       " -0.024049894761194426,\n",
       " -0.021043657916045122,\n",
       " -0.04809978952238883,\n",
       " -0.06914344743843397,\n",
       " -0.012024947380597211,\n",
       " -0.009018710535447907,\n",
       " -0.05711850005783675,\n",
       " -0.015031184225746515,\n",
       " -0.06613721059328465,\n",
       " -0.05110602636753814,\n",
       " -0.03908107898694094,\n",
       " -0.11123076327052422,\n",
       " -0.06012473690298605,\n",
       " -0.04509355267723954,\n",
       " -0.030062368451493033,\n",
       " -0.07214968428358327,\n",
       " -0.03908107898694093,\n",
       " -0.03607484214179164,\n",
       " -0.0841746316641805,\n",
       " -0.04208731583209024,\n",
       " -0.03306860529664234,\n",
       " -0.015031184225746515,\n",
       " -0.03306860529664234,\n",
       " -0.04509355267723954,\n",
       " -0.04208731583209024,\n",
       " -0.03607484214179164,\n",
       " -0.03908107898694094,\n",
       " -0.03607484214179163,\n",
       " -0.009018710535447907,\n",
       " -0.021043657916045122,\n",
       " -0.07816215797388189,\n",
       " -0.07816215797388187,\n",
       " -0.01803742107089582,\n",
       " -0.18338044755410757,\n",
       " -0.13528065803171868,\n",
       " -0.05411226321268744,\n",
       " -0.10822452642537492,\n",
       " -0.13227442118656935,\n",
       " -0.09018710535447909,\n",
       " -0.0871808685093298,\n",
       " -0.04208731583209024,\n",
       " -0.08718086850932981,\n",
       " -0.15031184225746522,\n",
       " -0.1082245264253749,\n",
       " -0.0811683948190312,\n",
       " -0.03607484214179164,\n",
       " -0.015031184225746515,\n",
       " -0.11123076327052425,\n",
       " -0.24049894761194435,\n",
       " -0.0030062368451493028,\n",
       " -0.060124736902986045,\n",
       " -0.06313097374813534,\n",
       " -0.021043657916045122,\n",
       " -0.03908107898694093,\n",
       " -0.10822452642537495,\n",
       " -0.07515592112873258,\n",
       " -0.048099789522388844,\n",
       " -0.11123076327052424,\n",
       " -0.030062368451493033,\n",
       " -0.07515592112873257,\n",
       " -0.12325571065112143,\n",
       " -0.03006236845149303,\n",
       " -0.030062368451493033,\n",
       " -0.048099789522388844,\n",
       " -0.11724323696082282,\n",
       " -0.01803742107089582,\n",
       " -0.08417463166418047,\n",
       " -0.03306860529664233,\n",
       " -0.1473056054123159,\n",
       " -0.051106026367538145,\n",
       " -0.07214968428358326,\n",
       " -0.03908107898694093,\n",
       " -0.024049894761194422,\n",
       " -0.060124736902986045,\n",
       " -0.07816215797388189,\n",
       " -0.01803742107089582,\n",
       " -0.0901871053544791,\n",
       " -0.10822452642537492,\n",
       " -0.030062368451493033,\n",
       " -0.12626194749627073,\n",
       " -0.06313097374813535,\n",
       " -0.024049894761194426,\n",
       " -0.09920581588992701,\n",
       " -0.030062368451493033,\n",
       " -0.04509355267723953,\n",
       " -0.13528065803171865,\n",
       " -0.06613721059328465,\n",
       " -0.06613721059328466,\n",
       " -0.03607484214179163,\n",
       " -0.06914344743843397,\n",
       " -0.04208731583209024,\n",
       " -0.08116839481903117,\n",
       " -0.03607484214179164,\n",
       " -0.009018710535447907,\n",
       " -0.05110602636753814,\n",
       " -0.12024947380597215,\n",
       " -0.024049894761194422,\n",
       " -0.04208731583209024,\n",
       " -0.048099789522388844,\n",
       " -0.06914344743843395,\n",
       " -0.03607484214179163,\n",
       " -0.1563243159477638,\n",
       " -0.030062368451493033,\n",
       " -0.01803742107089582,\n",
       " -0.021043657916045122,\n",
       " -0.021043657916045122,\n",
       " -0.03607484214179164,\n",
       " -0.030062368451493033,\n",
       " -0.015031184225746515,\n",
       " -0.0060124736902986056,\n",
       " -0.03607484214179163,\n",
       " -0.015031184225746515,\n",
       " -0.11423700011567356,\n",
       " -0.02705613160634373,\n",
       " -0.05711850005783673,\n",
       " -0.03306860529664234,\n",
       " -0.03908107898694094,\n",
       " -0.030062368451493033,\n",
       " -0.1412931317220173,\n",
       " -0.024049894761194426,\n",
       " -0.03607484214179164,\n",
       " -0.015031184225746515,\n",
       " -0.06613721059328465,\n",
       " -0.24951765814739235,\n",
       " -0.03306860529664234,\n",
       " -0.03908107898694093,\n",
       " -0.030062368451493033,\n",
       " -0.024049894761194426,\n",
       " -0.05711850005783673,\n",
       " -0.024049894761194426,\n",
       " -0.024049894761194426,\n",
       " -0.03306860529664234,\n",
       " -0.03908107898694094,\n",
       " -0.04809978952238884,\n",
       " -0.02705613160634373,\n",
       " -0.02705613160634373,\n",
       " -0.01803742107089582,\n",
       " -0.027056131606343726,\n",
       " -0.03607484214179163,\n",
       " -0.015031184225746515,\n",
       " -0.03908107898694094,\n",
       " -0.030062368451493033,\n",
       " -0.07515592112873257,\n",
       " -0.06613721059328465,\n",
       " -0.015031184225746515,\n",
       " -0.16834926332836106,\n",
       " -0.06313097374813535,\n",
       " -0.15933055279291314,\n",
       " -0.03607484214179164,\n",
       " -0.07214968428358326,\n",
       " -0.015031184225746515,\n",
       " -0.03607484214179164,\n",
       " -0.02705613160634373,\n",
       " -0.10221205273507633,\n",
       " -0.0961995790447777,\n",
       " -0.030062368451493033,\n",
       " -0.03306860529664234,\n",
       " -0.02705613160634373,\n",
       " -0.03306860529664234,\n",
       " -0.06613721059328465,\n",
       " -0.04208731583209024,\n",
       " -0.021043657916045122,\n",
       " -0.04208731583209023,\n",
       " -0.0871808685093298,\n",
       " -0.03607484214179164,\n",
       " -0.07816215797388186,\n",
       " -0.06613721059328465,\n",
       " -0.03006236845149303,\n",
       " -0.04809978952238884,\n",
       " -0.02705613160634373,\n",
       " -0.05110602636753814,\n",
       " -0.05411226321268744,\n",
       " -0.021043657916045122,\n",
       " -0.04208731583209023,\n",
       " -0.10822452642537493,\n",
       " -0.07214968428358327,\n",
       " -0.07515592112873257,\n",
       " -0.06313097374813534,\n",
       " -0.01803742107089582,\n",
       " -0.08417463166418047,\n",
       " -0.06313097374813535,\n",
       " -0.02705613160634373,\n",
       " -0.030062368451493033,\n",
       " -0.03607484214179164,\n",
       " -0.05411226321268744,\n",
       " -0.07816215797388187,\n",
       " -0.08417463166418047,\n",
       " -0.03908107898694093,\n",
       " -0.03306860529664234,\n",
       " -0.07515592112873255,\n",
       " -0.048099789522388844,\n",
       " -0.08718086850932975,\n",
       " -0.06613721059328465,\n",
       " -0.01803742107089582,\n",
       " -0.01803742107089582,\n",
       " -0.05110602636753814,\n",
       " -0.04208731583209024,\n",
       " -0.08417463166418047,\n",
       " -0.024049894761194422,\n",
       " -0.02104365791604512,\n",
       " -0.03306860529664233,\n",
       " -0.12626194749627073,\n",
       " -0.039081078986940944,\n",
       " -0.024049894761194426,\n",
       " -0.04809978952238884,\n",
       " -0.03607484214179164,\n",
       " -0.012024947380597211,\n",
       " -0.06914344743843397,\n",
       " -0.08116839481903118,\n",
       " -0.02705613160634373,\n",
       " -0.015031184225746515,\n",
       " -0.021043657916045122,\n",
       " -0.024049894761194426,\n",
       " -0.03908107898694094,\n",
       " -0.12926818434142004,\n",
       " -0.05411226321268744,\n",
       " -0.03006236845149303,\n",
       " -0.1262619474962707,\n",
       " -0.14730560541231588,\n",
       " -0.015031184225746515,\n",
       " -0.01803742107089582,\n",
       " -0.024049894761194426,\n",
       " -0.015031184225746515,\n",
       " -0.054112263212687445,\n",
       " -0.08116839481903118,\n",
       " -0.02705613160634373,\n",
       " -0.057118500057836745,\n",
       " -0.009018710535447907,\n",
       " -0.09018710535447909,\n",
       " -0.04509355267723954,\n",
       " -0.07816215797388187,\n",
       " -0.04809978952238884,\n",
       " -0.0030062368451493028,\n",
       " -0.021043657916045122,\n",
       " -0.054112263212687445,\n",
       " -0.07214968428358327,\n",
       " -0.05110602636753814,\n",
       " -0.015031184225746515,\n",
       " -0.05411226321268744,\n",
       " -0.018037421070895815,\n",
       " -0.021043657916045122,\n",
       " -0.03607484214179163,\n",
       " -0.08116839481903115,\n",
       " -0.03607484214179164,\n",
       " -0.015031184225746515,\n",
       " -0.05110602636753814,\n",
       " -0.11724323696082285,\n",
       " -0.06613721059328466,\n",
       " -0.024049894761194426,\n",
       " -0.045093552677239544,\n",
       " -0.07214968428358327,\n",
       " -0.054112263212687445,\n",
       " -0.012024947380597211,\n",
       " -0.11423700011567352,\n",
       " -0.06914344743843397,\n",
       " -0.05110602636753814,\n",
       " -0.1052182895802256,\n",
       " -0.030062368451493033,\n",
       " -0.04208731583209024,\n",
       " -0.07214968428358326,\n",
       " -0.05110602636753813,\n",
       " -0.06313097374813534,\n",
       " -0.045093552677239544,\n",
       " -0.06313097374813534,\n",
       " -0.03908107898694094,\n",
       " -0.009018710535447907,\n",
       " -0.024049894761194426,\n",
       " -0.03607484214179164,\n",
       " -0.07816215797388187,\n",
       " -0.08417463166418049,\n",
       " -0.03306860529664234,\n",
       " -0.10221205273507632,\n",
       " -0.207430342315302,\n",
       " -0.13227442118656937,\n",
       " -0.06313097374813535,\n",
       " -0.051106026367538145,\n",
       " -0.12024947380597217,\n",
       " -0.10822452642537492,\n",
       " -0.19540539493470474,\n",
       " -0.04809978952238883,\n",
       " -0.03908107898694094,\n",
       " -0.0871808685093298,\n",
       " -0.06613721059328465,\n",
       " -0.054112263212687445,\n",
       " -0.03306860529664234,\n",
       " -0.06313097374813534,\n",
       " -0.054112263212687445,\n",
       " -0.14129313172201727,\n",
       " -0.07515592112873255,\n",
       " -0.11423700011567355,\n",
       " -0.08116839481903115,\n",
       " -0.01803742107089582,\n",
       " -0.08718086850932981,\n",
       " -0.08417463166418047,\n",
       " -0.06613721059328466,\n",
       " -0.09319334219962842,\n",
       " -0.051106026367538145,\n",
       " -0.1232557106511214,\n",
       " -0.03908107898694094,\n",
       " -0.08417463166418049,\n",
       " -0.02705613160634373,\n",
       " -0.1563243159477638,\n",
       " -0.012024947380597211,\n",
       " -0.05110602636753814,\n",
       " -0.057118500057836745,\n",
       " -0.06313097374813534,\n",
       " -0.06313097374813535,\n",
       " -0.07816215797388187,\n",
       " -0.0030062368451493028,\n",
       " -0.01803742107089582,\n",
       " -0.07515592112873257,\n",
       " -0.03306860529664234,\n",
       " -0.09619957904477769,\n",
       " -0.021043657916045122,\n",
       " -0.030062368451493033,\n",
       " -0.01803742107089582,\n",
       " -0.06914344743843397,\n",
       " -0.06914344743843397,\n",
       " -0.01803742107089582,\n",
       " -0.10521828958022557,\n",
       " -0.02705613160634373,\n",
       " -0.03908107898694093,\n",
       " -0.05110602636753814,\n",
       " -0.03607484214179164,\n",
       " -0.015031184225746515,\n",
       " -0.06613721059328466,\n",
       " -0.015031184225746515,\n",
       " -0.024049894761194422,\n",
       " -0.024049894761194426,\n",
       " -0.06012473690298603,\n",
       " -0.009018710535447907,\n",
       " -0.02104365791604512,\n",
       " -0.0060124736902986056,\n",
       " -0.030062368451493033,\n",
       " -0.024049894761194426,\n",
       " -0.08417463166418047,\n",
       " -0.024049894761194426,\n",
       " -0.024049894761194426,\n",
       " -0.009018710535447907,\n",
       " -0.06012473690298604,\n",
       " -0.01803742107089582,\n",
       " -0.03908107898694094,\n",
       " -0.02705613160634373,\n",
       " -0.03306860529664234,\n",
       " -0.08116839481903121,\n",
       " -0.015031184225746515,\n",
       " -0.018037421070895815,\n",
       " -0.03306860529664233,\n",
       " -0.0811683948190312,\n",
       " -0.021043657916045122,\n",
       " -0.02705613160634373,\n",
       " -0.06613721059328466,\n",
       " -0.07515592112873258,\n",
       " -0.057118500057836745,\n",
       " -0.0060124736902986056,\n",
       " -0.04208731583209024,\n",
       " -0.23448647392164573,\n",
       " -0.10822452642537489,\n",
       " -0.04509355267723954,\n",
       " -0.06914344743843397,\n",
       " -0.051106026367538145,\n",
       " -0.048099789522388844,\n",
       " -0.05110602636753814,\n",
       " -0.03306860529664234,\n",
       " -0.030062368451493033,\n",
       " -0.04208731583209024,\n",
       " -0.024049894761194426,\n",
       " -0.05411226321268744,\n",
       " -0.099205815889927,\n",
       " -0.14429936856716657,\n",
       " -0.060124736902986045,\n",
       " -0.06012473690298605,\n",
       " -0.09319334219962841,\n",
       " -0.015031184225746515,\n",
       " -0.0030062368451493028,\n",
       " -0.06613721059328466,\n",
       " -0.02705613160634373,\n",
       " -0.06613721059328465,\n",
       " -0.054112263212687445,\n",
       " -0.012024947380597211,\n",
       " -0.03908107898694094,\n",
       " -0.11724323696082282,\n",
       " -0.021043657916045122,\n",
       " -0.05411226321268743,\n",
       " -0.06613721059328466,\n",
       " -0.015031184225746515,\n",
       " -0.01803742107089582,\n",
       " -0.021043657916045122,\n",
       " -0.01803742107089582,\n",
       " -0.03908107898694093,\n",
       " -0.03006236845149303,\n",
       " -0.03306860529664233,\n",
       " -0.0871808685093298,\n",
       " -0.01803742107089582,\n",
       " -0.03607484214179164,\n",
       " -0.024049894761194426,\n",
       " -0.02104365791604512,\n",
       " -0.06313097374813534,\n",
       " -0.02705613160634373,\n",
       " -0.015031184225746515,\n",
       " -0.04809978952238884,\n",
       " -0.024049894761194426,\n",
       " -0.024049894761194426,\n",
       " -0.08417463166418047,\n",
       " -0.021043657916045122,\n",
       " -0.12626194749627076,\n",
       " -0.03607484214179164,\n",
       " -0.03306860529664234,\n",
       " -0.012024947380597211,\n",
       " -0.05110602636753813,\n",
       " -0.09619957904477772,\n",
       " -0.03908107898694094,\n",
       " -0.0961995790447777,\n",
       " -0.07816215797388189,\n",
       " -0.057118500057836745,\n",
       " -0.09319334219962842,\n",
       " -0.1473056054123159,\n",
       " -0.12024947380597213,\n",
       " -0.03607484214179164,\n",
       " -0.06012473690298604,\n",
       " -0.027056131606343726,\n",
       " -0.03908107898694093,\n",
       " -0.14129313172201727,\n",
       " -0.04208731583209023,\n",
       " -0.0961995790447777,\n",
       " -0.04208731583209024,\n",
       " -0.04509355267723954,\n",
       " -0.03908107898694093,\n",
       " -0.11123076327052424,\n",
       " -0.06313097374813535,\n",
       " -0.02705613160634373,\n",
       " -0.07214968428358327,\n",
       " -0.06012473690298605,\n",
       " -0.03607484214179163,\n",
       " -0.14730560541231588,\n",
       " -0.07515592112873258,\n",
       " -0.02705613160634373,\n",
       " -0.0030062368451493028,\n",
       " -0.027056131606343726,\n",
       " -0.01803742107089582,\n",
       " -0.04809978952238884,\n",
       " -0.01803742107089582,\n",
       " -0.015031184225746515,\n",
       " -0.01803742107089582,\n",
       " -0.01803742107089582,\n",
       " -0.04208731583209023,\n",
       " -0.03306860529664234,\n",
       " -0.0030062368451493028,\n",
       " -0.054112263212687445,\n",
       " -0.024049894761194426,\n",
       " -0.11423700011567353,\n",
       " -0.009018710535447907,\n",
       " -0.009018710535447907,\n",
       " -0.01803742107089582,\n",
       " -0.021043657916045122,\n",
       " -0.024049894761194426,\n",
       " -0.015031184225746515,\n",
       " -0.024049894761194426,\n",
       " -0.015031184225746515,\n",
       " -0.060124736902986045,\n",
       " -0.05411226321268744,\n",
       " -0.12024947380597213,\n",
       " -0.16534302648321172,\n",
       " -0.024049894761194426,\n",
       " -0.027056131606343726,\n",
       " -0.18338044755410757,\n",
       " -0.02705613160634373,\n",
       " -0.04208731583209024,\n",
       " -0.07214968428358326,\n",
       " -0.015031184225746515,\n",
       " -0.03306860529664234,\n",
       " -0.08116839481903118,\n",
       " -0.0931933421996284,\n",
       " -0.03607484214179163,\n",
       " -0.07515592112873257,\n",
       " -0.11423700011567355,\n",
       " -0.0901871053544791,\n",
       " -0.009018710535447907,\n",
       " -0.02705613160634373,\n",
       " -0.015031184225746515,\n",
       " -0.01803742107089582,\n",
       " -0.01803742107089582,\n",
       " -0.012024947380597211,\n",
       " -0.06613721059328465,\n",
       " -0.0811683948190312,\n",
       " -0.02705613160634373,\n",
       " -0.045093552677239544,\n",
       " -0.03006236845149303,\n",
       " -0.012024947380597211,\n",
       " -0.04208731583209023,\n",
       " -0.03306860529664234,\n",
       " -0.027056131606343726,\n",
       " -0.03306860529664234,\n",
       " -0.05411226321268744,\n",
       " -0.15632431594776383,\n",
       " -0.03306860529664234,\n",
       " -0.03607484214179164,\n",
       " -0.1112307632705242,\n",
       " -0.04509355267723954,\n",
       " -0.015031184225746515,\n",
       " -0.024049894761194422,\n",
       " -0.04208731583209024,\n",
       " -0.009018710535447907,\n",
       " -0.08116839481903115,\n",
       " -0.06313097374813535,\n",
       " -0.024049894761194426,\n",
       " -0.027056131606343726,\n",
       " -0.03006236845149303,\n",
       " -0.04809978952238884,\n",
       " -0.02705613160634373,\n",
       " -0.0901871053544791,\n",
       " -0.05711850005783673,\n",
       " -0.12024947380597209,\n",
       " -0.04208731583209024,\n",
       " -0.04208731583209024,\n",
       " -0.09018710535447909,\n",
       " -0.06914344743843395,\n",
       " -0.06613721059328465,\n",
       " -0.06613721059328466,\n",
       " -0.06613721059328466,\n",
       " -0.03908107898694093,\n",
       " -0.0871808685093298,\n",
       " -0.06914344743843397,\n",
       " -0.01803742107089582,\n",
       " -0.03306860529664233,\n",
       " -0.012024947380597211,\n",
       " -0.02705613160634373,\n",
       " -0.024049894761194422,\n",
       " -0.021043657916045122,\n",
       " -0.03908107898694094,\n",
       " -0.07816215797388186,\n",
       " -0.11423700011567356,\n",
       " -0.03607484214179164,\n",
       " -0.024049894761194426,\n",
       " -0.021043657916045122,\n",
       " -0.009018710535447907,\n",
       " -0.03607484214179164,\n",
       " -0.015031184225746515,\n",
       " -0.0060124736902986056,\n",
       " -0.03306860529664233,\n",
       " -0.03306860529664234,\n",
       " -0.01803742107089582,\n",
       " -0.03607484214179164,\n",
       " -0.07515592112873257,\n",
       " -0.024049894761194426,\n",
       " -0.03306860529664234,\n",
       " -0.06613721059328465,\n",
       " -0.04809978952238884,\n",
       " -0.06313097374813534,\n",
       " -0.03908107898694094,\n",
       " -0.0811683948190312,\n",
       " -0.05110602636753813,\n",
       " -0.0901871053544791,\n",
       " -0.02705613160634373,\n",
       " -0.04208731583209023,\n",
       " -0.07515592112873258,\n",
       " -0.06613721059328465,\n",
       " -0.060124736902986045,\n",
       " -0.030062368451493033,\n",
       " -0.05411226321268745,\n",
       " -0.015031184225746515,\n",
       " -0.03607484214179164,\n",
       " -0.03607484214179164,\n",
       " -0.021043657916045122,\n",
       " -0.024049894761194422,\n",
       " -0.021043657916045122,\n",
       " -0.009018710535447907,\n",
       " -0.054112263212687445,\n",
       " -0.06313097374813534,\n",
       " -0.024049894761194426,\n",
       " -0.1352806580317187,\n",
       " -0.030062368451493033,\n",
       " -0.05110602636753813,\n",
       " -0.021043657916045122,\n",
       " -0.03607484214179164,\n",
       " -0.06313097374813534,\n",
       " -0.08116839481903117,\n",
       " -0.03306860529664233,\n",
       " -0.07816215797388189,\n",
       " -0.07515592112873255,\n",
       " -0.07515592112873255,\n",
       " -0.03306860529664234,\n",
       " -0.024049894761194426,\n",
       " -0.018037421070895815,\n",
       " -0.13227442118656937,\n",
       " -0.08116839481903117,\n",
       " -0.07214968428358327,\n",
       " -0.030062368451493033,\n",
       " -0.06012473690298605,\n",
       " -0.12626194749627073,\n",
       " -0.03908107898694094,\n",
       " -0.06313097374813534,\n",
       " -0.03607484214179164,\n",
       " -0.10221205273507632,\n",
       " -0.08718086850932981,\n",
       " -0.021043657916045122,\n",
       " -0.030062368451493033,\n",
       " -0.01803742107089582,\n",
       " -0.06313097374813534,\n",
       " -0.07515592112873257,\n",
       " -0.054112263212687445,\n",
       " -0.030062368451493033,\n",
       " -0.012024947380597211,\n",
       " -0.07816215797388187,\n",
       " -0.06313097374813535,\n",
       " -0.06613721059328465,\n",
       " -0.02705613160634373,\n",
       " -0.05110602636753814,\n",
       " -0.06914344743843394,\n",
       " -0.10521828958022564,\n",
       " -0.01803742107089582,\n",
       " -0.01803742107089582,\n",
       " -0.01803742107089582,\n",
       " -0.024049894761194422,\n",
       " -0.07214968428358326,\n",
       " -0.05411226321268743,\n",
       " -0.04509355267723954,\n",
       " -0.03306860529664233,\n",
       " -0.04509355267723954,\n",
       " -0.07816215797388185,\n",
       " -0.11123076327052424,\n",
       " -0.10521828958022561,\n",
       " -0.04208731583209023,\n",
       " -0.14730560541231585,\n",
       " -0.1022120527350763,\n",
       " -0.024049894761194422,\n",
       " -0.03306860529664234,\n",
       " -0.015031184225746515,\n",
       " -0.02705613160634373,\n",
       " -0.03607484214179163,\n",
       " -0.015031184225746515,\n",
       " -0.057118500057836745,\n",
       " -0.015031184225746515,\n",
       " -0.05110602636753813,\n",
       " -0.03607484214179164,\n",
       " -0.3066361582052288,\n",
       " -0.24350518445709368,\n",
       " -0.08417463166418049,\n",
       " -0.20442410547015272,\n",
       " -0.012024947380597211,\n",
       " -0.015031184225746515,\n",
       " -0.09619957904477773,\n",
       " -0.13227442118656935,\n",
       " -0.04509355267723954,\n",
       " -0.02705613160634373,\n",
       " -0.04809978952238883,\n",
       " -0.09319334219962841,\n",
       " -0.09319334219962842,\n",
       " -0.10521828958022567,\n",
       " -0.10822452642537495,\n",
       " -0.07816215797388189,\n",
       " -0.06613721059328465,\n",
       " -0.03908107898694094,\n",
       " -0.09018710535447912,\n",
       " -0.03607484214179164,\n",
       " -0.04509355267723954,\n",
       " -0.060124736902986045,\n",
       " -0.02705613160634373,\n",
       " -0.06313097374813535,\n",
       " -0.0030062368451493028,\n",
       " -0.09319334219962841,\n",
       " -0.03607484214179164,\n",
       " -0.03306860529664234,\n",
       " -0.015031184225746515,\n",
       " -0.024049894761194426,\n",
       " -0.05411226321268744,\n",
       " -0.02705613160634373,\n",
       " -0.06012473690298603,\n",
       " -0.06613721059328465,\n",
       " -0.04208731583209024,\n",
       " -0.05411226321268744,\n",
       " -0.12024947380597213,\n",
       " -0.11123076327052422,\n",
       " -0.0841746316641805,\n",
       " -0.08417463166418049,\n",
       " -0.057118500057836745,\n",
       " -0.12024947380597212,\n",
       " -0.03607484214179163,\n",
       " -0.05110602636753814,\n",
       " -0.12626194749627076,\n",
       " -0.01803742107089582,\n",
       " -0.04509355267723953,\n",
       " -0.03607484214179164,\n",
       " -0.01803742107089582,\n",
       " -0.03306860529664234,\n",
       " -0.03607484214179164,\n",
       " -0.021043657916045122,\n",
       " -0.021043657916045122,\n",
       " -0.021043657916045122,\n",
       " -0.021043657916045122,\n",
       " -0.015031184225746515,\n",
       " -0.009018710535447907,\n",
       " -0.08718086850932981,\n",
       " -0.06012473690298604,\n",
       " -0.027056131606343726,\n",
       " -0.021043657916045122,\n",
       " -0.03607484214179164,\n",
       " -0.11724323696082282,\n",
       " -0.024049894761194426,\n",
       " -0.021043657916045122,\n",
       " -0.05411226321268744,\n",
       " -0.015031184225746515,\n",
       " -0.01803742107089582,\n",
       " -0.009018710535447907,\n",
       " -0.021043657916045122,\n",
       " -0.02705613160634373,\n",
       " -0.03306860529664234,\n",
       " -0.07515592112873257,\n",
       " -0.11123076327052424,\n",
       " -0.06313097374813534,\n",
       " -0.021043657916045122,\n",
       " -0.03908107898694093,\n",
       " -0.024049894761194426,\n",
       " -0.1352806580317187,\n",
       " -0.02705613160634373,\n",
       " -0.01803742107089582,\n",
       " -0.02705613160634373,\n",
       " -0.03607484214179164,\n",
       " -0.06914344743843398,\n",
       " -0.012024947380597211,\n",
       " -0.05411226321268745,\n",
       " -0.03607484214179164,\n",
       " -0.10822452642537493,\n",
       " -0.01803742107089582,\n",
       " -0.021043657916045122,\n",
       " -0.07816215797388187,\n",
       " -0.024049894761194426,\n",
       " -0.02705613160634373,\n",
       " -0.02705613160634373,\n",
       " -0.01803742107089582,\n",
       " -0.021043657916045122,\n",
       " -0.009018710535447907,\n",
       " -0.10822452642537492,\n",
       " -0.03607484214179164,\n",
       " -0.01803742107089582,\n",
       " -0.10221205273507629,\n",
       " -0.024049894761194426,\n",
       " -0.05711850005783674,\n",
       " -0.06313097374813535,\n",
       " -0.024049894761194426,\n",
       " -0.05411226321268744,\n",
       " -0.021043657916045122,\n",
       " -0.02705613160634373,\n",
       " -0.04809978952238884,\n",
       " -0.03006236845149303,\n",
       " -0.01803742107089582,\n",
       " -0.05110602636753814,\n",
       " -0.042087315832090244,\n",
       " -0.012024947380597211,\n",
       " -0.015031184225746515,\n",
       " -0.012024947380597211,\n",
       " -0.10822452642537495,\n",
       " -0.015031184225746515,\n",
       " -0.021043657916045122,\n",
       " -0.021043657916045122,\n",
       " -0.02104365791604512,\n",
       " -0.06914344743843397,\n",
       " -0.048099789522388844,\n",
       " -0.05411226321268744,\n",
       " -0.012024947380597211,\n",
       " -0.01803742107089582,\n",
       " -0.10521828958022562,\n",
       " -0.06012473690298605,\n",
       " -0.13528065803171863,\n",
       " -0.024049894761194426,\n",
       " -0.0901871053544791,\n",
       " -0.02705613160634373,\n",
       " -0.012024947380597211,\n",
       " -0.07816215797388189,\n",
       " -0.04208731583209023,\n",
       " -0.09920581588992698,\n",
       " -0.015031184225746515,\n",
       " -0.02705613160634373,\n",
       " -0.04208731583209024,\n",
       " -0.06914344743843394,\n",
       " -0.01803742107089582,\n",
       " -0.04509355267723954,\n",
       " ...]"
      ]
     },
     "execution_count": 112,
     "metadata": {},
     "output_type": "execute_result"
    }
   ],
   "source": [
    "np.dot(feature_matrix, coefficients).tolist()"
   ]
  },
  {
   "cell_type": "markdown",
   "metadata": {},
   "source": [
    "## Measuring accuracy\n",
    "\n",
    "We will now measure the classification accuracy of the model. Recall from the lecture that the classification accuracy can be computed as follows:\n",
    "\n",
    "$$\n",
    "\\mbox{accuracy} = \\frac{\\mbox{# correctly classified data points}}{\\mbox{# total data points}}\n",
    "$$\n",
    "\n",
    "Complete the following code block to compute the accuracy of the model."
   ]
  },
  {
   "cell_type": "code",
   "execution_count": 39,
   "metadata": {
    "collapsed": false
   },
   "outputs": [
    {
     "name": "stdout",
     "output_type": "stream",
     "text": [
      "-----------------------------------------------------\n",
      "# Reviews   correctly classified = 26493\n",
      "# Reviews incorrectly classified = 26579\n",
      "# Reviews total                  = 53072\n",
      "-----------------------------------------------------\n",
      "Accuracy = 0.50\n"
     ]
    }
   ],
   "source": [
    "num_correct = sum(np.array(yhat) == products['sentiment'])\n",
    "num_mistakes = len(products) - num_correct\n",
    "accuracy = 1.0*num_correct / len(products)\n",
    "print \"-----------------------------------------------------\"\n",
    "print '# Reviews   correctly classified =', len(products) - num_mistakes\n",
    "print '# Reviews incorrectly classified =', num_mistakes\n",
    "print '# Reviews total                  =', len(products)\n",
    "print \"-----------------------------------------------------\"\n",
    "print 'Accuracy = %.2f' % accuracy"
   ]
  },
  {
   "cell_type": "markdown",
   "metadata": {},
   "source": [
    "**Quiz question**: What is the accuracy of the model on predictions made above? (round to 2 digits of accuracy)"
   ]
  },
  {
   "cell_type": "markdown",
   "metadata": {},
   "source": [
    "## Which words contribute most to positive & negative sentiments?"
   ]
  },
  {
   "cell_type": "markdown",
   "metadata": {},
   "source": [
    "Recall that in Module 2 assignment, we were able to compute the \"**most positive words**\". These are words that correspond most strongly with positive reviews. In order to do this, we will first do the following:\n",
    "* Treat each coefficient as a tuple, i.e. (**word**, **coefficient_value**).\n",
    "* Sort all the (**word**, **coefficient_value**) tuples by **coefficient_value** in descending order."
   ]
  },
  {
   "cell_type": "code",
   "execution_count": 40,
   "metadata": {
    "collapsed": false,
    "scrolled": true
   },
   "outputs": [],
   "source": [
    "coefficients = list(coefficients[1:]) # exclude intercept\n",
    "word_coefficient_tuples = [(word, coefficient) for word, coefficient in zip(important_words, coefficients)]\n",
    "word_coefficient_tuples = sorted(word_coefficient_tuples, key=lambda x:x[1], reverse=True)"
   ]
  },
  {
   "cell_type": "markdown",
   "metadata": {},
   "source": [
    "Now, **word_coefficient_tuples** contains a sorted list of (**word**, **coefficient_value**) tuples. The first 10 elements in this list correspond to the words that are most positive."
   ]
  },
  {
   "cell_type": "markdown",
   "metadata": {},
   "source": [
    "### Ten \"most positive\" words\n",
    "\n",
    "Now, we compute the 10 words that have the most positive coefficient values. These words are associated with positive sentiment."
   ]
  },
  {
   "cell_type": "code",
   "execution_count": 94,
   "metadata": {
    "collapsed": false
   },
   "outputs": [
    {
     "data": {
      "text/plain": [
       "[('baby', -0.0030062368451493028),\n",
       " ('one', -0.0030062368451493028),\n",
       " ('great', -0.0030062368451493028),\n",
       " ('love', -0.0030062368451493028),\n",
       " ('use', -0.0030062368451493028),\n",
       " ('would', -0.0030062368451493028),\n",
       " ('like', -0.0030062368451493028),\n",
       " ('easy', -0.0030062368451493028),\n",
       " ('little', -0.0030062368451493028),\n",
       " ('seat', -0.0030062368451493028)]"
      ]
     },
     "execution_count": 94,
     "metadata": {},
     "output_type": "execute_result"
    }
   ],
   "source": [
    "word_coefficient_tuples[:10]"
   ]
  },
  {
   "cell_type": "markdown",
   "metadata": {},
   "source": [
    "** Quiz question:** Which word is **not** present in the top 10 \"most positive\" words?"
   ]
  },
  {
   "cell_type": "markdown",
   "metadata": {},
   "source": [
    "### Ten \"most negative\" words\n",
    "\n",
    "Next, we repeat this exercise on the 10 most negative words.  That is, we compute the 10 words that have the most negative coefficient values. These words are associated with negative sentiment."
   ]
  },
  {
   "cell_type": "code",
   "execution_count": 95,
   "metadata": {
    "collapsed": false
   },
   "outputs": [
    {
     "data": {
      "text/plain": [
       "[('seems', -0.0030062368451493028),\n",
       " ('picture', -0.0030062368451493028),\n",
       " ('completely', -0.0030062368451493028),\n",
       " ('wish', -0.0030062368451493028),\n",
       " ('buying', -0.0030062368451493028),\n",
       " ('babies', -0.0030062368451493028),\n",
       " ('won', -0.0030062368451493028),\n",
       " ('tub', -0.0030062368451493028),\n",
       " ('almost', -0.0030062368451493028),\n",
       " ('either', -0.0030062368451493028)]"
      ]
     },
     "execution_count": 95,
     "metadata": {},
     "output_type": "execute_result"
    }
   ],
   "source": [
    "word_coefficient_tuples[-10:]"
   ]
  },
  {
   "cell_type": "markdown",
   "metadata": {},
   "source": [
    "** Quiz question:** Which word is **not** present in the top 10 \"most negative\" words?"
   ]
  }
 ],
 "metadata": {
  "kernelspec": {
   "display_name": "Python 2",
   "language": "python",
   "name": "python2"
  },
  "language_info": {
   "codemirror_mode": {
    "name": "ipython",
    "version": 2
   },
   "file_extension": ".py",
   "mimetype": "text/x-python",
   "name": "python",
   "nbconvert_exporter": "python",
   "pygments_lexer": "ipython2",
   "version": "2.7.11"
  }
 },
 "nbformat": 4,
 "nbformat_minor": 0
}
