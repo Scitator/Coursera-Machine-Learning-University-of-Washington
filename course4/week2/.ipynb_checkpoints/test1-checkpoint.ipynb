{
 "cells": [
  {
   "cell_type": "code",
   "execution_count": 1,
   "metadata": {
    "collapsed": true
   },
   "outputs": [],
   "source": [
    "import numpy as np"
   ]
  },
  {
   "cell_type": "markdown",
   "metadata": {},
   "source": [
    "Consider the following two sentences.\n",
    "\n",
    "Sentence 1: The quick brown fox jumps over the lazy dog.\n",
    "Sentence 2: A quick brown dog outpaces a quick fox.\n",
    "Compute the Euclidean distance using word counts. Round your answer to 3 decimal places.\n",
    "\n",
    "Note. To compute word counts, turn all words into lower case and strip all punctuation, so that \"The\" and \"the\" are counted as the same token.\n"
   ]
  },
  {
   "cell_type": "code",
   "execution_count": 3,
   "metadata": {
    "collapsed": true
   },
   "outputs": [],
   "source": [
    "str1 = \"the quick brown fox jumps over the lazy dog\""
   ]
  },
  {
   "cell_type": "code",
   "execution_count": 4,
   "metadata": {
    "collapsed": true
   },
   "outputs": [],
   "source": [
    "str2 = \"a quick brown dog outpaces a quick fox\""
   ]
  },
  {
   "cell_type": "code",
   "execution_count": 7,
   "metadata": {
    "collapsed": true
   },
   "outputs": [],
   "source": [
    "words = set((str1 + str2).split(\" \"))"
   ]
  },
  {
   "cell_type": "code",
   "execution_count": 8,
   "metadata": {
    "collapsed": true
   },
   "outputs": [],
   "source": [
    "str1_dist = {}\n",
    "for word in words:\n",
    "    str1_dist[word] = 0\n",
    "for word in str1.split(\" \"):\n",
    "    str1_dist[word] = str1_dist[word] + 1"
   ]
  },
  {
   "cell_type": "code",
   "execution_count": 10,
   "metadata": {
    "collapsed": false
   },
   "outputs": [
    {
     "data": {
      "text/plain": [
       "{'a': 0,\n",
       " 'brown': 1,\n",
       " 'dog': 1,\n",
       " 'doga': 0,\n",
       " 'fox': 1,\n",
       " 'jumps': 1,\n",
       " 'lazy': 1,\n",
       " 'outpaces': 0,\n",
       " 'over': 1,\n",
       " 'quick': 1,\n",
       " 'the': 2}"
      ]
     },
     "execution_count": 10,
     "metadata": {},
     "output_type": "execute_result"
    }
   ],
   "source": [
    "str1_dist"
   ]
  },
  {
   "cell_type": "code",
   "execution_count": 9,
   "metadata": {
    "collapsed": true
   },
   "outputs": [],
   "source": [
    "str2_dist = {}\n",
    "for word in words:\n",
    "    str2_dist[word] = 0\n",
    "for word in str2.split(\" \"):\n",
    "    str2_dist[word] = str1_dist[word] + 1"
   ]
  },
  {
   "cell_type": "code",
   "execution_count": 11,
   "metadata": {
    "collapsed": false
   },
   "outputs": [
    {
     "data": {
      "text/plain": [
       "{'a': 1,\n",
       " 'brown': 2,\n",
       " 'dog': 2,\n",
       " 'doga': 0,\n",
       " 'fox': 2,\n",
       " 'jumps': 0,\n",
       " 'lazy': 0,\n",
       " 'outpaces': 1,\n",
       " 'over': 0,\n",
       " 'quick': 2,\n",
       " 'the': 0}"
      ]
     },
     "execution_count": 11,
     "metadata": {},
     "output_type": "execute_result"
    }
   ],
   "source": [
    "str2_dist"
   ]
  },
  {
   "cell_type": "code",
   "execution_count": 21,
   "metadata": {
    "collapsed": false
   },
   "outputs": [
    {
     "data": {
      "text/plain": [
       "3.6055512754639891"
      ]
     },
     "execution_count": 21,
     "metadata": {},
     "output_type": "execute_result"
    }
   ],
   "source": [
    "np.sqrt((np.array(str1_dist.values())- np.array(str2_dist.values())).dot((np.array(str1_dist.values())- np.array(str2_dist.values())).T))"
   ]
  },
  {
   "cell_type": "markdown",
   "metadata": {},
   "source": [
    "Refer back to the two sentences given in Question 2 to answer the following:\n",
    "\n",
    "Recall that we can use cosine similarity to define a distance. We call that distance cosine distance.\n",
    "\n",
    "Compute the cosine distance using word counts. Round your answer to 3 decimal places.\n",
    "\n",
    "Note: To compute word counts, turn all words into lower case and strip all punctuation, so that \"The\" and \"the\" are counted as the same token.\n",
    "\n",
    "Hint. Recall that we can use cosine similarity to define a distance. We call that distance cosine distance."
   ]
  },
  {
   "cell_type": "code",
   "execution_count": 24,
   "metadata": {
    "collapsed": false
   },
   "outputs": [],
   "source": [
    "similarity = np.array(str1_dist.values()).dot((np.array(str2_dist.values())).T)"
   ]
  },
  {
   "cell_type": "code",
   "execution_count": null,
   "metadata": {
    "collapsed": true
   },
   "outputs": [],
   "source": [
    "sqrt1 = np.sqrt(np.array(str1_dist.values()).dot((np.array(str1_dist.values())).T))"
   ]
  }
 ],
 "metadata": {
  "kernelspec": {
   "display_name": "Python [dato-env]",
   "language": "python",
   "name": "Python [dato-env]"
  },
  "language_info": {
   "codemirror_mode": {
    "name": "ipython",
    "version": 2
   },
   "file_extension": ".py",
   "mimetype": "text/x-python",
   "name": "python",
   "nbconvert_exporter": "python",
   "pygments_lexer": "ipython2",
   "version": "2.7.12"
  }
 },
 "nbformat": 4,
 "nbformat_minor": 0
}
